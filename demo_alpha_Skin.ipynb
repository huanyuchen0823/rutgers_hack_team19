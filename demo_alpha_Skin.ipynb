{
  "nbformat": 4,
  "nbformat_minor": 0,
  "metadata": {
    "colab": {
      "provenance": []
    },
    "kernelspec": {
      "name": "python3",
      "display_name": "Python 3"
    },
    "language_info": {
      "name": "python"
    }
  },
  "cells": [
    {
      "cell_type": "markdown",
      "source": [
        "Rationale for Combining LLM API with Feature Extractor Model and User-Friendly Output\n",
        "\n",
        "Our project aims to create a real-time motion correction system for managing scoliosis and kyphotic deformities by using a Large Language Model (LLM) as the core analysis engine. Here’s how and why we are integrating multiple components:\n",
        "\n",
        "1. **LLM for Intelligent Motion Feedback**:\n",
        "    - We utilize the ChatGPT API as a flexible and powerful language model that can interpret motion descriptions and offer corrective feedback based on spinal alignment and posture.\n",
        "    - This approach allows us to tap into the LLM’s extensive understanding of human movement and posture, helping us provide feedback that aligns with physical therapy practices.\n",
        "    - By leveraging the LLM's API, we benefit from the model’s large-scale training on diverse datasets, which gives it an adaptive quality essential for a generalizable health solution.\n",
        "\n",
        "2. **Feature Extractor Model as an Intermediate Step** (Planned for Future Integration):\n",
        "    - In addition to the LLM, we plan to use a feature extractor model trained to process raw motion data and transform it into a structured format the LLM can understand.\n",
        "    - This model will serve as a pre-processor that filters and enhances data from our wearable piezoelectric textiles, focusing on key spinal and postural features.\n",
        "    - By structuring the data, we ensure that only the most relevant motion features are sent to the LLM, making the feedback more precise and reducing unnecessary API calls.\n",
        "\n",
        "3. **Transforming Feedback into User-Friendly Formats** (Planned for Future Integration):\n",
        "    - To make feedback intuitive and actionable, we plan to translate the LLM’s output into different user-friendly formats:\n",
        "      - **Images/Visualizations**: Based on corrective feedback, we will generate annotated images or animations that visually guide users on how to correct their posture.\n",
        "      - **Voice and Haptic Feedback**: For real-time use, feedback can be outputted as auditory instructions or vibrations.\n",
        "      - **Summary Reports**: We aim to compile session-based summaries, offering users insights into their progress over time.\n",
        "\n",
        "For now, let's use the LLM API to show a demo, and further down the line, we can access the feature extractor and output model.\n",
        "\n",
        "In this code, we show a simple example of calling the ChatGPT API to help us process the collected data.\n"
      ],
      "metadata": {
        "id": "eRKr9ooCRhZq"
      }
    },
    {
      "cell_type": "code",
      "source": [
        "!pip install openai"
      ],
      "metadata": {
        "colab": {
          "base_uri": "https://localhost:8080/"
        },
        "id": "f8Eb2PDsw2si",
        "outputId": "2a9d3ed2-07c6-4b61-933f-efa7110bb9b6"
      },
      "execution_count": 2,
      "outputs": [
        {
          "output_type": "stream",
          "name": "stdout",
          "text": [
            "Collecting openai\n",
            "  Downloading openai-1.52.2-py3-none-any.whl.metadata (24 kB)\n",
            "Requirement already satisfied: anyio<5,>=3.5.0 in /usr/local/lib/python3.10/dist-packages (from openai) (3.7.1)\n",
            "Requirement already satisfied: distro<2,>=1.7.0 in /usr/lib/python3/dist-packages (from openai) (1.7.0)\n",
            "Collecting httpx<1,>=0.23.0 (from openai)\n",
            "  Downloading httpx-0.27.2-py3-none-any.whl.metadata (7.1 kB)\n",
            "Collecting jiter<1,>=0.4.0 (from openai)\n",
            "  Downloading jiter-0.6.1-cp310-cp310-manylinux_2_17_x86_64.manylinux2014_x86_64.whl.metadata (5.2 kB)\n",
            "Requirement already satisfied: pydantic<3,>=1.9.0 in /usr/local/lib/python3.10/dist-packages (from openai) (2.9.2)\n",
            "Requirement already satisfied: sniffio in /usr/local/lib/python3.10/dist-packages (from openai) (1.3.1)\n",
            "Requirement already satisfied: tqdm>4 in /usr/local/lib/python3.10/dist-packages (from openai) (4.66.5)\n",
            "Requirement already satisfied: typing-extensions<5,>=4.11 in /usr/local/lib/python3.10/dist-packages (from openai) (4.12.2)\n",
            "Requirement already satisfied: idna>=2.8 in /usr/local/lib/python3.10/dist-packages (from anyio<5,>=3.5.0->openai) (3.10)\n",
            "Requirement already satisfied: exceptiongroup in /usr/local/lib/python3.10/dist-packages (from anyio<5,>=3.5.0->openai) (1.2.2)\n",
            "Requirement already satisfied: certifi in /usr/local/lib/python3.10/dist-packages (from httpx<1,>=0.23.0->openai) (2024.8.30)\n",
            "Collecting httpcore==1.* (from httpx<1,>=0.23.0->openai)\n",
            "  Downloading httpcore-1.0.6-py3-none-any.whl.metadata (21 kB)\n",
            "Collecting h11<0.15,>=0.13 (from httpcore==1.*->httpx<1,>=0.23.0->openai)\n",
            "  Downloading h11-0.14.0-py3-none-any.whl.metadata (8.2 kB)\n",
            "Requirement already satisfied: annotated-types>=0.6.0 in /usr/local/lib/python3.10/dist-packages (from pydantic<3,>=1.9.0->openai) (0.7.0)\n",
            "Requirement already satisfied: pydantic-core==2.23.4 in /usr/local/lib/python3.10/dist-packages (from pydantic<3,>=1.9.0->openai) (2.23.4)\n",
            "Downloading openai-1.52.2-py3-none-any.whl (386 kB)\n",
            "\u001b[2K   \u001b[90m━━━━━━━━━━━━━━━━━━━━━━━━━━━━━━━━━━━━━━━━\u001b[0m \u001b[32m386.9/386.9 kB\u001b[0m \u001b[31m5.0 MB/s\u001b[0m eta \u001b[36m0:00:00\u001b[0m\n",
            "\u001b[?25hDownloading httpx-0.27.2-py3-none-any.whl (76 kB)\n",
            "\u001b[2K   \u001b[90m━━━━━━━━━━━━━━━━━━━━━━━━━━━━━━━━━━━━━━━━\u001b[0m \u001b[32m76.4/76.4 kB\u001b[0m \u001b[31m4.2 MB/s\u001b[0m eta \u001b[36m0:00:00\u001b[0m\n",
            "\u001b[?25hDownloading httpcore-1.0.6-py3-none-any.whl (78 kB)\n",
            "\u001b[2K   \u001b[90m━━━━━━━━━━━━━━━━━━━━━━━━━━━━━━━━━━━━━━━━\u001b[0m \u001b[32m78.0/78.0 kB\u001b[0m \u001b[31m5.6 MB/s\u001b[0m eta \u001b[36m0:00:00\u001b[0m\n",
            "\u001b[?25hDownloading jiter-0.6.1-cp310-cp310-manylinux_2_17_x86_64.manylinux2014_x86_64.whl (325 kB)\n",
            "\u001b[2K   \u001b[90m━━━━━━━━━━━━━━━━━━━━━━━━━━━━━━━━━━━━━━━━\u001b[0m \u001b[32m325.2/325.2 kB\u001b[0m \u001b[31m20.2 MB/s\u001b[0m eta \u001b[36m0:00:00\u001b[0m\n",
            "\u001b[?25hDownloading h11-0.14.0-py3-none-any.whl (58 kB)\n",
            "\u001b[2K   \u001b[90m━━━━━━━━━━━━━━━━━━━━━━━━━━━━━━━━━━━━━━━━\u001b[0m \u001b[32m58.3/58.3 kB\u001b[0m \u001b[31m4.0 MB/s\u001b[0m eta \u001b[36m0:00:00\u001b[0m\n",
            "\u001b[?25hInstalling collected packages: jiter, h11, httpcore, httpx, openai\n",
            "Successfully installed h11-0.14.0 httpcore-1.0.6 httpx-0.27.2 jiter-0.6.1 openai-1.52.2\n"
          ]
        }
      ]
    },
    {
      "cell_type": "code",
      "execution_count": 3,
      "metadata": {
        "id": "cKRPy9llvcVm"
      },
      "outputs": [],
      "source": [
        "import openai"
      ]
    },
    {
      "cell_type": "code",
      "source": [
        "import requests\n",
        "import json\n",
        "import os\n",
        "\n",
        "# Set up your OpenAI API key\n",
        "api_key = \"some openai api\"\n",
        "if api_key is None:\n",
        "    raise ValueError(\"OpenAI API key is not set in environment variables.\")\n",
        "\n",
        "# API endpoint and headers\n",
        "url = \"https://api.openai.com/v1/chat/completions\"\n",
        "headers = {\n",
        "    \"Content-Type\": \"application/json\",\n",
        "    \"Authorization\": f\"Bearer {api_key}\"\n",
        "}\n",
        "\n",
        "\n",
        "def generate_response(user_message, model=\"gpt-4o\"):\n",
        "    \"\"\"\n",
        "    Sends a message to the OpenAI API and retrieves the response.\n",
        "\n",
        "    Parameters:\n",
        "    - user_message (str): The message you want to send to the assistant.\n",
        "    - model (str): The OpenAI model to use (default is \"gpt-3.5-turbo\").\n",
        "\n",
        "    Returns:\n",
        "    - str: The assistant's response to the user's message.\n",
        "    \"\"\"\n",
        "    data = {\n",
        "        \"model\": model,\n",
        "        \"messages\": [\n",
        "            {\"role\": \"system\", \"content\": \"\"\"\n",
        "You are an AI model assisting in a real-time motion analysis system designed for managing spinal health, specifically for individuals with scoliosis and kyphotic deformities. Your role is to evaluate user-provided motion data and suggest corrective actions. You should base your feedback on optimal spinal alignment and posture. Use the following guidelines:\n",
        "\n",
        "1. Analyze and Evaluate Motion: Given a set of key motion descriptors (e.g., shoulder tilt, spine curvature, neck alignment), assess whether the posture aligns with corrective standards for scoliosis or kyphosis.\n",
        "\n",
        "2. Provide Corrective Feedback: If the motion is incorrect, outline specific adjustments (e.g., \"raise the left shoulder,\" \"straighten the lower spine\") to guide the user toward a corrective posture. Be clear and actionable in your instructions.\n",
        "\n",
        "3. Offer Guidance on Repeating Movements: For repeated motions (e.g., physical exercises), provide cues to maintain the correct posture during each phase of the motion. Use real-time language, as if guiding someone in person.\n",
        "\n",
        "4. Encourage and Educate: Where possible, add brief educational tips about why specific adjustments improve posture or reduce spinal strain.\n",
        "\n",
        "5. Consistency with Physical Therapy Standards: Ensure all guidance is aligned with recognized practices in physical therapy for spinal correction.\n",
        "\n",
        "Example Input: A user provides motion data indicating a forward head posture and right shoulder elevation.\n",
        "Example Output: 'Your head is tilted forward. Try to tuck in your chin slightly, aligning your ears with your shoulders. Lower your right shoulder to level with your left to relieve spinal pressure.'\n",
        "\n",
        "If the motion is correct, simply respond with 'Your posture is correct. Maintain this alignment during movement.'\n",
        "\"\"\"},\n",
        "            {\"role\": \"user\", \"content\": user_message}\n",
        "        ]\n",
        "    }\n",
        "\n",
        "    try:\n",
        "        response = requests.post(url, headers=headers, json=data)\n",
        "        response.raise_for_status()  # Raises an error for HTTP codes 4xx/5xx\n",
        "\n",
        "        # Parse response\n",
        "        response_data = response.json()\n",
        "        assistant_message = response_data['choices'][0]['message']['content']\n",
        "        return assistant_message\n",
        "\n",
        "    except requests.exceptions.HTTPError as http_err:\n",
        "        print(f\"HTTP error occurred: {http_err} - {response.text}\")\n",
        "    except Exception as err:\n",
        "        print(f\"Other error occurred: {err}\")\n",
        "\n",
        "    return None  # Return None if there is an error\n",
        "\n",
        "# Example\n",
        "motion_data = \"The user’s shoulder alignment is forward, with a 10-degree tilt to the right. The spine is slightly curved, and the cervical vertebrae show forward head posture.\"\n",
        "\n",
        "\n",
        "user_input = f\"Here is the motion data: {motion_data}. Please evaluate if the posture or motion is correct and suggest corrections if needed.\"\n",
        "assistant_response = generate_response(user_input)\n",
        "\n",
        "if assistant_response:\n",
        "    print(\"Assistant Response:\")\n",
        "    print(assistant_response)\n",
        "else:\n",
        "    print(\"Failed to get a response from the OpenAI API.\")\n"
      ],
      "metadata": {
        "colab": {
          "base_uri": "https://localhost:8080/"
        },
        "id": "qE57YZj7zs0j",
        "outputId": "e00fd8ab-ad49-457c-ee38-c0e56e6fa33b"
      },
      "execution_count": 15,
      "outputs": [
        {
          "output_type": "stream",
          "name": "stdout",
          "text": [
            "Assistant Response:\n",
            "Based on the provided motion data, the posture requires some adjustments to align with corrective standards for spinal health:\n",
            "\n",
            "1. **Shoulder Alignment**: Your shoulders are forward and tilted 10 degrees to the right. To improve this, draw your shoulders back gently, imagining that you’re trying to hold a pencil between your shoulder blades. This will help in bringing your shoulders back into alignment. Also, lower your right shoulder until both shoulders are level.\n",
            "\n",
            "2. **Spine Alignment**: There is a slight curvature in your spine that needs addressing. Focus on engaging your core muscles to provide support and help straighten your spine. Think about elongating your spine upwards as if someone is gently pulling you up by the top of your head.\n",
            "\n",
            "3. **Head and Neck Alignment**: You have a forward head posture. Try to tuck in your chin slightly, bringing it closer to your neck. This action will align your ears with your shoulders and alleviate neck strain.\n",
            "\n",
            "### Guidance for Repeated Movements:\n",
            "- As you go through your daily activities or exercises, regularly check in with your posture: shoulders back, spine straight, chin tucked.\n",
            "- When sitting for extended periods, ensure you take breaks to walk around and do these alignment checks to relax and reset your posture.\n",
            "\n",
            "### Educational Tip:\n",
            "Aligning your head, shoulders, and spine not only helps alleviate undue pressure on your spine and reducing the risk of pain, but it also enhances your overall posture, leading to improved balance and a reduction in potential musculoskeletal issues.\n",
            "\n",
            "Let me know if you need further clarification or additional exercises to support these corrections!\n"
          ]
        }
      ]
    }
  ]
}